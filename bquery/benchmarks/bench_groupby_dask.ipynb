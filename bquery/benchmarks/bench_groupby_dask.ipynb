{
 "cells": [
  {
   "cell_type": "markdown",
   "metadata": {},
   "source": [
    "### Out of core groupby comparison\n",
    "\n",
    "A few libraries to compute out-of-core pandas-style groupbys exist. \n",
    "\n",
    "*  BQuery\n",
    "*  Blaze\n",
    "*  Dask\n",
    "\n",
    "This notebook was modified from a notebook on the bquery repository.  We've made the following changes:\n",
    "\n",
    "1.  Increased the dataset size.  This precludes the pandas comparison but helps blaze, whose overhead resulted in poor performance on very small chunked datasets.  Argumably this new size and chunksize are more representative of actual problems on which these technologies would be used.\n",
    "2.  Added a Blaze multiprocessing solution\n",
    "3.  Added comparison with dask.dataframe (which does surprisingly well)\n",
    "4.  End with a profile run of the dask.dataframe solution.\n",
    "5.  Removed the complex query section at the end.\n",
    "\n",
    "The following introduction, the setup, and most of the experiment lines come from the [original notebook](https://github.com/visualfabriq/bquery/blob/master/bquery/benchmarks/bench_groupby.ipynb)\n",
    "\n",
    "Disclaimer: I am biased towards Blaze and Dask and so may have inadvertently selected options that flatter those projects.  "
   ]
  },
  {
   "cell_type": "markdown",
   "metadata": {},
   "source": [
    "# Bquery - groupby on-disk\n",
    "\n",
    "In this notebook we will compare the performance several groupby solutions over out-of-core (disk-based) bcolz files against Python's golden standard: the fast, in-memory Pandas framework.\n",
    "\n",
    "Our goal is to show how with bcolz you can approach (and in some cases even exceed) the Pandas in-memory performance while working with solutions that only have the intermediate and/or end result in-memory.\n",
    "\n",
    "We will have two test cases: \n",
    "1) a query with a single groupby column and a single aggregated (sum) column\n",
    "2) a query with five groupby columns and three aggregated (sum) columns\n",
    "\n",
    "This is a simple example with 1 million rows, but you can experiment with other sizes to see how they affect the outcome.\n",
    "\n",
    "This performance comparison was run on a 16gb ram, 8 core, SSD-based DigitalOcean server on Ubuntu 14.04. System caching might influence the results, but in our experience this very much resembles our real-life experience. We encourage anyone to have their own test and share them with us.\n",
    "\n",
    "For the impatient, you can scroll to the end to see a graphical presentation of the performance results.\n",
    "\n",
    "The bquery framework provides methods to perform query and aggregation operations on bcolz containers, as well as accelerate these operations by pre-processing possible groupby columns.\n",
    "\n",
    "Bcolz is a light weight package that provides columnar, chunked data containers that can be compressed either in-memory and on-disk. that are compressed by default not only for reducing memory/disk storage, but also to improve I/O speed. It excels at storing and sequentially accessing large, numerical data sets.  \n",
    "\n",
    "The code you'll find below was inspired on the following nicely written notebooks:  \n",
    "Blaze - http://nbviewer.ipython.org/url/blaze.pydata.org/notebooks/timings-bcolz.ipynb  \n",
    "Bcolz - http://nbviewer.ipython.org/github/Blosc/movielens-bench/blob/master/querying-ep14.ipynb"
   ]
  },
  {
   "cell_type": "code",
   "execution_count": 1,
   "metadata": {
    "collapsed": false
   },
   "outputs": [],
   "source": [
    "%matplotlib inline"
   ]
  },
  {
   "cell_type": "code",
   "execution_count": 2,
   "metadata": {
    "collapsed": false
   },
   "outputs": [
    {
     "name": "stdout",
     "output_type": "stream",
     "text": [
      "Couldn't import dot_parser, loading of dot files will not be possible.\n"
     ]
    }
   ],
   "source": [
    "import matplotlib.pyplot as plt\n",
    "import numpy as np\n",
    "import itertools as itt\n",
    "import time\n",
    "import shutil\n",
    "import os\n",
    "import contextlib\n",
    "import pandas as pd\n",
    "import blaze as blz\n",
    "import bquery\n",
    "import cytoolz\n",
    "from cytoolz.curried import pluck as cytoolz_pluck\n",
    "from collections import OrderedDict\n",
    "import copy\n",
    "from prettyprint import pp"
   ]
  },
  {
   "cell_type": "code",
   "execution_count": 3,
   "metadata": {
    "collapsed": false
   },
   "outputs": [],
   "source": [
    "elapsed_times = OrderedDict()\n",
    "\n",
    "@contextlib.contextmanager\n",
    "def ctime(message=None):\n",
    "    \"Counts the time spent in some context\"\n",
    "    assert message is not None\n",
    "    global elapsed_times\n",
    "    t_elapsed = 0.0\n",
    "    print('\\n')\n",
    "    t = time.time()\n",
    "    yield\n",
    "    if message:\n",
    "        print message + \":  \", \n",
    "    t_elapsed = time.time() - t\n",
    "    print round(t_elapsed, 4), \"sec\"\n",
    "    elapsed_times[message] = t_elapsed\n",
    "\n",
    "\n",
    "ga = itt.cycle(['ES', 'NL'])\n",
    "gb = itt.cycle(['b1', 'b2', 'b3', 'b4', 'b5'])\n",
    "gx = itt.cycle([1, 2])\n",
    "gy = itt.cycle([-1, -2])\n",
    "rootdir = 'bench-data.bcolz'\n",
    "if os.path.exists(rootdir):\n",
    "    shutil.rmtree(rootdir)\n",
    "\n",
    "n_rows = 10000000\n",
    "\n",
    "# -- data\n",
    "z = np.fromiter(((a, b, x, y) for a, b, x, y in itt.izip(ga, gb, gx, gy)),\n",
    "                dtype='S2,S2,i8,i8', count=n_rows)"
   ]
  },
  {
   "cell_type": "code",
   "execution_count": 4,
   "metadata": {
    "collapsed": false
   },
   "outputs": [],
   "source": [
    "ct = bquery.ctable(z, rootdir=rootdir, chunklen=1000000)\n",
    "ct.flush()"
   ]
  },
  {
   "cell_type": "code",
   "execution_count": 5,
   "metadata": {
    "collapsed": false
   },
   "outputs": [
    {
     "data": {
      "text/plain": [
       "1000000"
      ]
     },
     "execution_count": 5,
     "metadata": {},
     "output_type": "execute_result"
    }
   ],
   "source": [
    "ct['f0'].chunklen"
   ]
  },
  {
   "cell_type": "markdown",
   "metadata": {},
   "source": [
    "### blaze"
   ]
  },
  {
   "cell_type": "code",
   "execution_count": 6,
   "metadata": {
    "collapsed": false
   },
   "outputs": [
    {
     "name": "stdout",
     "output_type": "stream",
     "text": [
      "Simple Test Case\n",
      "\n",
      "\n",
      "blaze (pandas + bcolz):   2.1971 sec\n"
     ]
    }
   ],
   "source": [
    "print('Simple Test Case')\n",
    "blaze_data = blz.Data(ct.rootdir)\n",
    "expr = blz.by(blaze_data.f0, sum_f2=blaze_data.f2.sum())\n",
    "with ctime(message='blaze (pandas + bcolz)'):\n",
    "    result = blz.compute(expr)\n",
    "# print result"
   ]
  },
  {
   "cell_type": "code",
   "execution_count": 7,
   "metadata": {
    "collapsed": false
   },
   "outputs": [
    {
     "name": "stdout",
     "output_type": "stream",
     "text": [
      "\n",
      "\n",
      "blaze + multiprocessing:   1.438 sec\n"
     ]
    }
   ],
   "source": [
    "import multiprocessing as mp\n",
    "p = mp.Pool()\n",
    "\n",
    "with ctime(message='blaze + multiprocessing'):\n",
    "    result = blz.compute(expr, map=p.map)\n",
    "# print result"
   ]
  },
  {
   "cell_type": "code",
   "execution_count": 8,
   "metadata": {
    "collapsed": false
   },
   "outputs": [
    {
     "data": {
      "text/html": [
       "<div style=\"max-height:1000px;max-width:1500px;overflow:auto;\">\n",
       "<table border=\"1\" class=\"dataframe\">\n",
       "  <thead>\n",
       "    <tr style=\"text-align: right;\">\n",
       "      <th></th>\n",
       "      <th>f0</th>\n",
       "      <th>sum_f2</th>\n",
       "    </tr>\n",
       "  </thead>\n",
       "  <tbody>\n",
       "    <tr>\n",
       "      <th>0</th>\n",
       "      <td>ES</td>\n",
       "      <td>5000000</td>\n",
       "    </tr>\n",
       "    <tr>\n",
       "      <th>1</th>\n",
       "      <td>NL</td>\n",
       "      <td>10000000</td>\n",
       "    </tr>\n",
       "  </tbody>\n",
       "</table>\n",
       "</div>"
      ],
      "text/plain": [
       "   f0    sum_f2\n",
       "0  ES   5000000\n",
       "1  NL  10000000"
      ]
     },
     "execution_count": 8,
     "metadata": {},
     "output_type": "execute_result"
    }
   ],
   "source": [
    "result"
   ]
  },
  {
   "cell_type": "code",
   "execution_count": 9,
   "metadata": {
    "collapsed": false
   },
   "outputs": [],
   "source": [
    "import dask.dataframe as dd\n",
    "df = dd.from_bcolz(ct)"
   ]
  },
  {
   "cell_type": "code",
   "execution_count": 10,
   "metadata": {
    "collapsed": false
   },
   "outputs": [
    {
     "name": "stdout",
     "output_type": "stream",
     "text": [
      "\n",
      "\n",
      "dask single threaded:   0.6374 sec\n"
     ]
    }
   ],
   "source": [
    "with ctime(message='dask single threaded'):\n",
    "    df.groupby('f0').f2.sum().compute()"
   ]
  },
  {
   "cell_type": "code",
   "execution_count": 11,
   "metadata": {
    "collapsed": false
   },
   "outputs": [
    {
     "name": "stdout",
     "output_type": "stream",
     "text": [
      "\n",
      "\n",
      "dask with threading:   0.5583 sec\n"
     ]
    }
   ],
   "source": [
    "# I use the pandas branch jreback/gil at b6eea4b5f8896c107310c3a10c1cb65f108b568a\n",
    "\n",
    "from dask.threaded import get\n",
    "with ctime(message='dask with threading'):\n",
    "    df.groupby('f0').f2.sum().compute(get=get)"
   ]
  },
  {
   "cell_type": "markdown",
   "metadata": {},
   "source": [
    "### bquery without caching"
   ]
  },
  {
   "cell_type": "code",
   "execution_count": 12,
   "metadata": {
    "collapsed": false
   },
   "outputs": [
    {
     "name": "stdout",
     "output_type": "stream",
     "text": [
      "Simple Test Case\n",
      "\n",
      "\n",
      "bquery + bcolz:   2.2219 sec\n"
     ]
    }
   ],
   "source": [
    "print('Simple Test Case')\n",
    "with ctime(message='bquery + bcolz'):\n",
    "    result = ct.groupby(['f0'], ['f2'])\n",
    "# print(result)"
   ]
  },
  {
   "cell_type": "markdown",
   "metadata": {},
   "source": [
    "### bquery with caching"
   ]
  },
  {
   "cell_type": "code",
   "execution_count": 13,
   "metadata": {
    "collapsed": false
   },
   "outputs": [
    {
     "name": "stdout",
     "output_type": "stream",
     "text": [
      "Simple Test Case\n",
      "\n",
      "\n",
      "bquery, create factorization cache:   0.8123 sec\n",
      "\n",
      "\n",
      "bquery + bcolz (fact. cached):   1.4794 sec\n"
     ]
    }
   ],
   "source": [
    "print('Simple Test Case')\n",
    "with ctime(message='bquery, create factorization cache'):\n",
    "    ct.cache_factor(['f0'], refresh=True)\n",
    "\n",
    "with ctime(message='bquery + bcolz (fact. cached)'):\n",
    "    result = ct.groupby(['f0'], ['f2'])\n",
    "# print(result)"
   ]
  },
  {
   "cell_type": "markdown",
   "metadata": {},
   "source": [
    "### Running Times Summary"
   ]
  },
  {
   "cell_type": "code",
   "execution_count": 14,
   "metadata": {
    "collapsed": false
   },
   "outputs": [
    {
     "name": "stdout",
     "output_type": "stream",
     "text": [
      "Simple Test Case Running Time\n",
      "{\n",
      "    \"blaze (pandas + bcolz)\": 2.197126865386963, \n",
      "    \"blaze + multiprocessing\": 1.4379968643188477, \n",
      "    \"bquery + bcolz\": 2.2219109535217285, \n",
      "    \"bquery + bcolz (fact. cached)\": 1.4794340133666992, \n",
      "    \"bquery, create factorization cache\": 0.8123009204864502, \n",
      "    \"dask single threaded\": 0.6374270915985107, \n",
      "    \"dask with threading\": 0.5583410263061523\n",
      "}\n"
     ]
    }
   ],
   "source": [
    "print('Simple Test Case Running Time')\n",
    "elapsed_times_bak = OrderedDict({ k: v for (k,v) in sorted(elapsed_times.iteritems())})\n",
    "pp(elapsed_times_bak)"
   ]
  },
  {
   "cell_type": "code",
   "execution_count": 15,
   "metadata": {
    "collapsed": false
   },
   "outputs": [
    {
     "name": "stdout",
     "output_type": "stream",
     "text": [
      "Simple Test Case Running Time (s)\n",
      "{\n",
      "    \"blaze (pandas + bcolz)\": 2.197126865386963, \n",
      "    \"blaze + multiprocessing\": 1.4379968643188477, \n",
      "    \"bquery + bcolz\": 2.2219109535217285, \n",
      "    \"bquery + bcolz (fact. cached)\": 1.4794340133666992, \n",
      "    \"bquery, create factorization cache\": 0.8123009204864502, \n",
      "    \"dask single threaded\": 0.6374270915985107, \n",
      "    \"dask with threading\": 0.5583410263061523\n",
      "}\n",
      "\\Running time\n",
      "{\n",
      "    \"blaze (pandas + bcolz)\": 2.197126865386963, \n",
      "    \"blaze + multiprocessing\": 1.4379968643188477, \n",
      "    \"bquery + bcolz\": 2.2219109535217285, \n",
      "    \"bquery + bcolz (fact. cached)\": 1.4794340133666992, \n",
      "    \"bquery, create factorization cache\": 0.8123009204864502, \n",
      "    \"dask single threaded\": 0.6374270915985107, \n",
      "    \"dask with threading\": 0.5583410263061523\n",
      "}\n"
     ]
    }
   ],
   "source": [
    "print('Simple Test Case Running Time (s)')\n",
    "elapsed_times_bak = OrderedDict({ k: v for (k,v) in sorted(elapsed_times.iteritems())})\n",
    "pp(elapsed_times_bak)\n",
    "elapsed_times = elapsed_times_bak\n",
    "elapsed_times_norm = OrderedDict({ k: v for (k,v) in sorted(elapsed_times.iteritems())})\n",
    "print '\\Running time'\n",
    "pp(elapsed_times_norm)"
   ]
  },
  {
   "cell_type": "markdown",
   "metadata": {},
   "source": [
    "### Graphic Summary"
   ]
  },
  {
   "cell_type": "code",
   "execution_count": 16,
   "metadata": {
    "collapsed": false
   },
   "outputs": [
    {
     "name": "stdout",
     "output_type": "stream",
     "text": [
      "['dask with threading', 'bquery + bcolz (fact. cached)', 'blaze + multiprocessing', 'dask single threaded', 'bquery + bcolz', 'blaze (pandas + bcolz)']\n"
     ]
    },
    {
     "data": {
      "text/plain": [
       "<Container object of 6 artists>"
      ]
     },
     "execution_count": 16,
     "metadata": {},
     "output_type": "execute_result"
    },
    {
     "data": {
      "image/png": "[encoded data removed]",
      "text/plain": [
       "<matplotlib.figure.Figure at 0x7f5495c00e90>"
      ]
     },
     "metadata": {},
     "output_type": "display_data"
    }
   ],
   "source": [
    "if 'bquery, create factorization cache' in elapsed_times_norm:\n",
    "    base_bquery = elapsed_times_norm.pop('bquery, create factorization cache')\n",
    "labels = []\n",
    "val = []\n",
    "for k,v in sorted(elapsed_times_norm.iteritems(), reverse=True):\n",
    "    labels.append(k)\n",
    "    val.append(v)\n",
    "\n",
    "pos = np.arange(len(elapsed_times_norm))+.5    # the bar centers on the y axis\n",
    "\n",
    "print elapsed_times_norm.keys()\n",
    "plt.figure(1, figsize=[12,5])\n",
    "plt.grid(True)\n",
    "plt.barh(pos,val, align='center')\n",
    "plt.yticks(pos, labels, fontsize=15)\n",
    "plt.xlabel('X times slower', fontsize=15)\n",
    "plt.title('Performance (s)', fontsize=25)\n",
    "\n",
    "plt.barh(pos,[0, 0, 0, base_bquery, 0, 0], \n",
    "         left=[0, 0, 0, elapsed_times_norm['bquery + bcolz (fact. cached)'], 0, 0],\n",
    "         align='center', color = '#FFFFCC')\n"
   ]
  },
  {
   "cell_type": "markdown",
   "metadata": {},
   "source": [
    "The Light yellow shows the one-time factorization caching (which after the first run can be left out of future queries).  \n",
    "NB: when data changes, this caching has to be refreshed but it is very useful in most reporting & analytics cases."
   ]
  },
  {
   "cell_type": "markdown",
   "metadata": {},
   "source": [
    "### Profile Dask Solution\n",
    "\n",
    "Why didn't threading help much?"
   ]
  },
  {
   "cell_type": "code",
   "execution_count": 17,
   "metadata": {
    "collapsed": false
   },
   "outputs": [
    {
     "name": "stdout",
     "output_type": "stream",
     "text": [
      " "
     ]
    }
   ],
   "source": [
    "%prun df.groupby('f0').f2.sum().compute()"
   ]
  },
  {
   "cell_type": "markdown",
   "metadata": {},
   "source": [
    "```\n",
    "         25876 function calls (25170 primitive calls) in 0.651 seconds\n",
    "\n",
    "   Ordered by: internal time\n",
    "\n",
    "   ncalls  tottime  percall  cumtime  percall filename:lineno(function)\n",
    "       20    0.294    0.015    0.294    0.015 {method 'searchsorted' of 'numpy.ndarray' objects}\n",
    "       10    0.125    0.013    0.552    0.055 io.py:305(dataframe_from_ctable)\n",
    "      181    0.044    0.000    0.044    0.000 {method 'reduce' of 'numpy.ufunc' objects}\n",
    "       11    0.037    0.003    0.037    0.003 {pandas.algos.group_add_float64}\n",
    "       11    0.034    0.003    0.034    0.003 internals.py:3717(_stack_arrays)\n",
    "       11    0.021    0.002    0.021    0.002 {pandas.algos.ensure_float64}\n",
    "       65    0.019    0.000    0.019    0.000 {pandas.algos.ensure_int8}\n",
    "       57    0.015    0.000    0.015    0.000 {pandas.algos.ensure_int64}\n",
    "      106    0.015    0.000    0.015    0.000 {numpy.core.multiarray.arange}\n",
    "     4810    0.002    0.000    0.003    0.000 {isinstance}\n",
    "       51    0.002    0.000    0.006    0.000 index.py:109(__new__)\n",
    "2033/1524    0.001    0.000    0.002    0.000 {len}\n",
    "  394/393    0.001    0.000    0.001    0.000 {numpy.core.multiarray.array}\n",
    "       64    0.001    0.000    0.003    0.000 core.py:177(get_dependencies)\n",
    "       76    0.001    0.000    0.001    0.000 {pandas.lib.infer_dtype}\n",
    "       11    0.001    0.000    0.039    0.004 internals.py:3559(form_blocks)\n",
    "```"
   ]
  }
 ],
 "metadata": {
  "kernelspec": {
   "display_name": "Python 2",
   "language": "python",
   "name": "python2"
  },
  "language_info": {
   "codemirror_mode": {
    "name": "ipython",
    "version": 2
   },
   "file_extension": ".py",
   "mimetype": "text/x-python",
   "name": "python",
   "nbconvert_exporter": "python",
   "pygments_lexer": "ipython2",
   "version": "2.7.9"
  }
 },
 "nbformat": 4,
 "nbformat_minor": 0
}
